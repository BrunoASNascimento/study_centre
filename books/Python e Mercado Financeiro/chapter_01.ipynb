{
 "cells": [
  {
   "cell_type": "code",
   "execution_count": 15,
   "metadata": {},
   "outputs": [],
   "source": [
    "import math\n",
    "import numpy as np"
   ]
  },
  {
   "cell_type": "code",
   "execution_count": 10,
   "metadata": {},
   "outputs": [
    {
     "name": "stdout",
     "output_type": "stream",
     "text": [
      "a= 60\n",
      "b= 1.399558248166381\n",
      "c= -0.5484006168695851\n",
      "d= 2\n",
      "e= 0.8063421144213803\n",
      "f= 177.6169164905552\n"
     ]
    }
   ],
   "source": [
    "a = 4**3-2**2\n",
    "b = math.sin(2)-math.cos(4.2)\n",
    "c = math.cos(math.sin(3.7)-math.tan(1.3))\n",
    "d = 26 % 4\n",
    "e = math.radians(46.2)\n",
    "f = math.degrees(3.1)\n",
    "\n",
    "print(f'{a= }')\n",
    "print(f'{b= }')\n",
    "print(f'{c= }')\n",
    "print(f'{d= }')\n",
    "print(f'{e= }')\n",
    "print(f'{f= }')"
   ]
  },
  {
   "cell_type": "code",
   "execution_count": 12,
   "metadata": {},
   "outputs": [
    {
     "name": "stdout",
     "output_type": "stream",
     "text": [
      "a= 18.293777453959613\n",
      "b= 102.06004502039733\n",
      "c= 1.5983360204481227\n"
     ]
    }
   ],
   "source": [
    "x,y=3,6\n",
    "a = math.exp(x) - math.log(y)\n",
    "b = x*y**2+y*math.cos(x)\n",
    "c = math.sqrt(((x/y))+math.log(x+y)+math.tan(x))\n",
    "print(f'{a= }')\n",
    "print(f'{b= }')\n",
    "print(f'{c= }')"
   ]
  },
  {
   "cell_type": "code",
   "execution_count": 17,
   "metadata": {},
   "outputs": [
    {
     "name": "stdout",
     "output_type": "stream",
     "text": [
      "a= [4, 1]\n",
      "b= [2, 1, 1, 2, 3]\n",
      "c= [3, 4, 1, 2, 1, 1, 2, 3, 4, 4, 1, 1, 5, 2]\n",
      "d= [3, 3, 4, 1, 2, 1, 1, 2, 3, 4, 4, 1, 1, 5, 2]\n",
      "e= [3, 1, 1, 4, 1]\n",
      "f= 2\n",
      "g= [1, 5, 2]\n",
      "h= [3, 3, 4, 1]\n",
      "i= 15\n",
      "j= 5\n"
     ]
    }
   ],
   "source": [
    "num = [3, 3, 4, 1, 2, 1, 1, 2, 3, 4, 4, 1, 1, 5, 2]\n",
    "a = num[2:4]\n",
    "b = num[4:9]\n",
    "c = num[1:]\n",
    "d = num[:]\n",
    "e = num[::3]\n",
    "f = num[-1]\n",
    "g = num[-3:]\n",
    "h = num[:4]\n",
    "i = len(num)\n",
    "j = num.count(1)\n",
    "\n",
    "print(f'{a= }')\n",
    "print(f'{b= }')\n",
    "print(f'{c= }')\n",
    "print(f'{d= }')\n",
    "print(f'{e= }')\n",
    "print(f'{f= }')\n",
    "print(f'{g= }')\n",
    "print(f'{h= }')\n",
    "print(f'{i= }')\n",
    "print(f'{j= }')"
   ]
  }
 ],
 "metadata": {
  "kernelspec": {
   "display_name": "s_w_py10",
   "language": "python",
   "name": "python3"
  },
  "language_info": {
   "codemirror_mode": {
    "name": "ipython",
    "version": 3
   },
   "file_extension": ".py",
   "mimetype": "text/x-python",
   "name": "python",
   "nbconvert_exporter": "python",
   "pygments_lexer": "ipython3",
   "version": "3.10.12"
  }
 },
 "nbformat": 4,
 "nbformat_minor": 2
}
