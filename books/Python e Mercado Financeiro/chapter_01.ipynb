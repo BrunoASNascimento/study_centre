{
 "cells": [
  {
   "cell_type": "code",
   "execution_count": 25,
   "metadata": {},
   "outputs": [],
   "source": [
    "import math\n",
    "import numpy as np"
   ]
  },
  {
   "cell_type": "code",
   "execution_count": 26,
   "metadata": {},
   "outputs": [
    {
     "name": "stdout",
     "output_type": "stream",
     "text": [
      "Exercise 01\n",
      "a= 60\n",
      "b= 1.399558248166381\n",
      "c= -0.5484006168695851\n",
      "d= 2\n",
      "e= 0.8063421144213803\n",
      "f= 177.6169164905552\n"
     ]
    }
   ],
   "source": [
    "print('Exercise 01')\n",
    "a = 4**3-2**2\n",
    "b = math.sin(2)-math.cos(4.2)\n",
    "c = math.cos(math.sin(3.7)-math.tan(1.3))\n",
    "d = 26 % 4\n",
    "e = math.radians(46.2)\n",
    "f = math.degrees(3.1)\n",
    "\n",
    "print(f'{a= }')\n",
    "print(f'{b= }')\n",
    "print(f'{c= }')\n",
    "print(f'{d= }')\n",
    "print(f'{e= }')\n",
    "print(f'{f= }')"
   ]
  },
  {
   "cell_type": "code",
   "execution_count": 27,
   "metadata": {},
   "outputs": [
    {
     "name": "stdout",
     "output_type": "stream",
     "text": [
      "Exercise 02\n",
      "a= 18.293777453959613\n",
      "b= 102.06004502039733\n",
      "c= 1.5983360204481227\n"
     ]
    }
   ],
   "source": [
    "print('Exercise 02')\n",
    "x,y=3,6\n",
    "\n",
    "a = math.exp(x) - math.log(y)\n",
    "\n",
    "b = x*y**2+y*math.cos(x)\n",
    "\n",
    "c = math.sqrt(((x/y))+math.log(x+y)+math.tan(x))\n",
    "\n",
    "print(f'{a= }')\n",
    "\n",
    "print(f'{b= }')\n",
    "\n",
    "print(f'{c= }')"
   ]
  },
  {
   "cell_type": "code",
   "execution_count": 28,
   "metadata": {},
   "outputs": [
    {
     "name": "stdout",
     "output_type": "stream",
     "text": [
      "Exercise 03\n",
      "a= [4, 1]\n",
      "b= [2, 1, 1, 2, 3]\n",
      "c= [3, 4, 1, 2, 1, 1, 2, 3, 4, 4, 1, 1, 5, 2]\n",
      "d= [3, 3, 4, 1, 2, 1, 1, 2, 3, 4, 4, 1, 1, 5, 2]\n",
      "e= [3, 1, 1, 4, 1]\n",
      "f= 2\n",
      "g= [1, 5, 2]\n",
      "h= [3, 3, 4, 1]\n",
      "i= 15\n",
      "j= 5\n"
     ]
    }
   ],
   "source": [
    "print('Exercise 03')\n",
    "num = [3, 3, 4, 1, 2, 1, 1, 2, 3, 4, 4, 1, 1, 5, 2]\n",
    "a = num[2:4]\n",
    "b = num[4:9]\n",
    "c = num[1:]\n",
    "d = num[:]\n",
    "e = num[::3]\n",
    "f = num[-1]\n",
    "g = num[-3:]\n",
    "h = num[:4]\n",
    "i = len(num)\n",
    "j = num.count(1)\n",
    "\n",
    "print(f'{a= }')\n",
    "print(f'{b= }')\n",
    "print(f'{c= }')\n",
    "print(f'{d= }')\n",
    "print(f'{e= }')\n",
    "print(f'{f= }')\n",
    "print(f'{g= }')\n",
    "print(f'{h= }')\n",
    "print(f'{i= }')\n",
    "print(f'{j= }')"
   ]
  },
  {
   "cell_type": "code",
   "execution_count": 29,
   "metadata": {},
   "outputs": [
    {
     "name": "stdout",
     "output_type": "stream",
     "text": [
      "Exercise 04\n",
      "a= ['dow', 'ibov', 'ftse']\n",
      "b= ['dow', 'ibov', 'ftse', 'dax', 'nasdaq', 'cac', 'hong kong', 'merval']\n",
      "c= 4\n",
      "d= ['dow', 'ibov', 'ftse', 'dax', 'nasdaq', 'hong kong', 'merval']\n",
      "e= ['dow', 'ibov', 'sp&500', 'ftse', 'dax', 'nasdaq', 'hong kong', 'merval']\n"
     ]
    }
   ],
   "source": [
    "print('Exercise 04')\n",
    "stock_exchange = ['dow', 'ibov', 'ftse', 'dax', 'nasdaq', 'cac']\n",
    "a = stock_exchange[:3]\n",
    "print(f'{a= }')\n",
    "stock_exchange += ['hong kong', 'merval']\n",
    "b = stock_exchange\n",
    "print(f'{b= }')\n",
    "c = stock_exchange.index('nasdaq')\n",
    "print(f'{c= }')\n",
    "stock_exchange.remove('cac')\n",
    "d = stock_exchange\n",
    "print(f'{d= }')\n",
    "stock_exchange.insert(2, 'sp&500')\n",
    "e = stock_exchange\n",
    "print(f'{e= }')"
   ]
  },
  {
   "cell_type": "code",
   "execution_count": 30,
   "metadata": {},
   "outputs": [
    {
     "name": "stdout",
     "output_type": "stream",
     "text": [
      "Exercise 05\n"
     ]
    }
   ],
   "source": [
    "print('Exercise 05')\n",
    "with open('./data/bov.txt','a') as file:\n",
    "    file.write('petr4, 28.4\\n')\n",
    "    file.write('vale3, 31.3\\n')\n",
    "    file.write('ggbr4, 15.76\\n')\n",
    "    file.close()"
   ]
  },
  {
   "cell_type": "code",
   "execution_count": 31,
   "metadata": {},
   "outputs": [
    {
     "name": "stdout",
     "output_type": "stream",
     "text": [
      "Exercise 06\n",
      "['petr4, 28.4\\n', 'vale3, 31.3\\n', 'ggbr4, 15.76\\n', 'petr4, 28.4\\n', 'vale3, 31.3\\n', 'ggbr4, 15.76\\n', 'petr4, 28.4\\n', 'vale3, 31.3\\n', 'ggbr4, 15.76\\n', 'petr4, 28.4\\n', 'vale3, 31.3\\n', 'ggbr4, 15.76\\n']\n"
     ]
    }
   ],
   "source": [
    "print('Exercise 06')\n",
    "file = open('./data/bov.txt', 'r')\n",
    "lines = file.readlines()\n",
    "print(lines)\n",
    "file.close()"
   ]
  }
 ],
 "metadata": {
  "kernelspec": {
   "display_name": "s_w_py10",
   "language": "python",
   "name": "python3"
  },
  "language_info": {
   "codemirror_mode": {
    "name": "ipython",
    "version": 3
   },
   "file_extension": ".py",
   "mimetype": "text/x-python",
   "name": "python",
   "nbconvert_exporter": "python",
   "pygments_lexer": "ipython3",
   "version": "3.10.12"
  }
 },
 "nbformat": 4,
 "nbformat_minor": 2
}
